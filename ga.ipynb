{
 "cells": [
  {
   "cell_type": "markdown",
   "id": "db7dda1c-8bd7-4a34-9e5c-7301bca32e60",
   "metadata": {},
   "source": [
    "# GA4 API Tool"
   ]
  },
  {
   "cell_type": "code",
   "execution_count": null,
   "id": "1d785ca4-f391-4091-8619-69ebd91f7c86",
   "metadata": {},
   "outputs": [],
   "source": [
    "pip install pandas numpy matplotlib google-analytics-data oauth2client"
   ]
  },
  {
   "cell_type": "code",
   "execution_count": null,
   "id": "9fc8cc7a-2cab-48cb-8248-f1ebf5544cdb",
   "metadata": {},
   "outputs": [],
   "source": [
    "import os\n",
    "import numpy as np\n",
    "import pandas as pd\n",
    "import matplotlib.pyplot as plt\n",
    "from IPython.display import FileLink\n",
    "from oauth2client.service_account import ServiceAccountCredentials\n",
    "from google.analytics.data_v1beta import BetaAnalyticsDataClient\n",
    "from google.analytics.data_v1beta.types import DateRange, Dimension, Metric, RunReportRequest"
   ]
  },
  {
   "cell_type": "code",
   "execution_count": null,
   "id": "0338df97-de97-47dd-a774-9e6f5b1b29c4",
   "metadata": {},
   "outputs": [],
   "source": [
    "os.environ['GOOGLE_APPLICATION_CREDENTIALS'] = 'client_secrets.json'\n",
    "property_id = 0\n",
    "web_name=\"\"\n",
    "\n",
    "client = BetaAnalyticsDataClient()"
   ]
  },
  {
   "cell_type": "code",
   "execution_count": null,
   "id": "8a674995-d8c3-4f67-8516-3d1adbffb5a7",
   "metadata": {},
   "outputs": [],
   "source": [
    "def make_a_request(start_date, end_date, dimension, metric):\n",
    "    request = RunReportRequest(\n",
    "        property=f\"properties/{property_id}\",\n",
    "        dimensions=[Dimension(name=dimension)],\n",
    "        metrics=[Metric(name=metric)],\n",
    "        date_ranges=[DateRange(start_date=start_date, end_date=end_date)],\n",
    "    )\n",
    "    response = client.run_report(request)\n",
    "    return response"
   ]
  },
  {
   "cell_type": "markdown",
   "id": "3014ae80-f996-4a2e-ada5-6732d4294d86",
   "metadata": {},
   "source": [
    "## Los navegadores desde donde nos llegan mas visitas"
   ]
  },
  {
   "cell_type": "code",
   "execution_count": null,
   "id": "d0c88ef1-8190-4ae8-9ce4-ad770fa0e026",
   "metadata": {},
   "outputs": [],
   "source": [
    "response = make_a_request(\"2020-03-31\", \"today\", \"browser\", \"activeUsers\")\n",
    "output = []\n",
    "for row in response.rows:\n",
    "    output.append(\n",
    "        {\n",
    "            'Browser': row.dimension_values[0].value,\n",
    "            'Users': row.metric_values[0].value\n",
    "        }\n",
    "    )\n",
    "\n",
    "browser_df = pd.DataFrame.from_dict(output)\n",
    "\n",
    "fig, ax = plt.subplots()\n",
    "ax.pie(browser_df['Users'], radius=3, autopct='%1.1f%%', center=(4, 4), frame=True)\n",
    "ax.legend(browser_df['Browser'], loc='center left', bbox_to_anchor=(1, 0.5))\n",
    "plt.axis('off')\n",
    "plt.show()"
   ]
  },
  {
   "cell_type": "markdown",
   "id": "2d7ce206-db75-4c11-93be-36ef0bdb7032",
   "metadata": {},
   "source": [
    "## Los paises desde donde nos llegan mas visitas"
   ]
  },
  {
   "cell_type": "code",
   "execution_count": null,
   "id": "fbb38d73-fffd-4421-80c5-cff941ac4bdb",
   "metadata": {},
   "outputs": [],
   "source": [
    "response = make_a_request(\"2020-03-31\", \"today\", \"country\", \"activeUsers\")\n",
    "output = []\n",
    "\n",
    "for row in response.rows:\n",
    "    output.append(\n",
    "        {\n",
    "            'Country': row.dimension_values[0].value,\n",
    "            'Users': row.metric_values[0].value\n",
    "        }\n",
    "    )\n",
    "\n",
    "country_df = pd.DataFrame.from_dict(output)\n",
    "\n",
    "fig, ax = plt.subplots()\n",
    "ax.pie(country_df['Users'], radius=3, autopct='%1.1f%%', center=(4, 4), frame=True)\n",
    "ax.legend(country_df['Country'][0:5], loc='center left', bbox_to_anchor=(1, 0.5))\n",
    "plt.axis('off')\n",
    "plt.show()"
   ]
  },
  {
   "cell_type": "markdown",
   "id": "ec2a49e5-3405-43db-be52-031228231858",
   "metadata": {},
   "source": [
    "## Trafico por medio"
   ]
  },
  {
   "cell_type": "code",
   "execution_count": null,
   "id": "720c04b7-38a7-4eb4-9a27-7d1d818d8210",
   "metadata": {},
   "outputs": [],
   "source": [
    "response = make_a_request(\"2020-03-31\", \"today\", \"medium\", \"activeUsers\")\n",
    "output = []\n",
    "\n",
    "for row in response.rows:\n",
    "    output.append(\n",
    "        {\n",
    "            'Medium': row.dimension_values[0].value,\n",
    "            'Users': row.metric_values[0].value\n",
    "        }\n",
    "    )\n",
    "\n",
    "medium_df = pd.DataFrame.from_dict(output)\n",
    "\n",
    "fig, ax = plt.subplots()\n",
    "plt.margins(0.1)\n",
    "x_pos = np.arange(len(medium_df['Medium']))\n",
    "\n",
    "bar = ax.bar(x_pos, medium_df['Users'], align='center')\n",
    "ax.bar_label(bar, labels=medium_df['Users'], padding = 3) \n",
    "ax.set_xticks(x_pos, labels=medium_df['Medium'])\n",
    "ax.set_ylabel('Usuarios')\n",
    "ax.set_xlabel('Medio')\n",
    "ax.set_title('Trafico / Medio')\n",
    "plt.show()"
   ]
  },
  {
   "cell_type": "markdown",
   "id": "d4555cfd-de48-4ad4-89c5-82d86d2a5969",
   "metadata": {},
   "source": [
    "## Trafico de mobile, desktop y tablet"
   ]
  },
  {
   "cell_type": "code",
   "execution_count": null,
   "id": "6c2f8071-1cc2-4993-9537-ef4f48051911",
   "metadata": {},
   "outputs": [],
   "source": [
    "response = make_a_request(\"2020-03-31\", \"today\", \"deviceCategory\", \"activeUsers\")\n",
    "output = []\n",
    "\n",
    "for row in response.rows:\n",
    "    output.append(\n",
    "        {\n",
    "            'Device': row.dimension_values[0].value,\n",
    "            'Users': row.metric_values[0].value\n",
    "        }\n",
    "    )\n",
    "\n",
    "device_df = pd.DataFrame.from_dict(output)\n",
    "\n",
    "fig, ax = plt.subplots()\n",
    "ax.pie(device_df['Users'], radius=3, autopct='%1.1f%%', center=(4, 4), frame=True)\n",
    "ax.legend(device_df['Device'], loc='center left', bbox_to_anchor=(1, 0.5))\n",
    "ax.set_title('Dispositivo / Medio')\n",
    "plt.axis('off')\n",
    "plt.show()"
   ]
  },
  {
   "cell_type": "markdown",
   "id": "3237235b-6112-48af-b71f-f4a7791b971d",
   "metadata": {},
   "source": [
    "## CSV con las urls y el trafico"
   ]
  },
  {
   "cell_type": "code",
   "execution_count": null,
   "id": "7d01eeee-07e6-46e4-9f24-5756bd7a5967",
   "metadata": {},
   "outputs": [],
   "source": [
    "response = make_a_request(\"2020-03-31\", \"today\", \"fullPageUrl\", \"activeUsers\")\n",
    "output = []\n",
    "\n",
    "for row in response.rows:\n",
    "    output.append(\n",
    "        {\n",
    "            'Page URL': row.dimension_values[0].value,\n",
    "            'Users': row.metric_values[0].value\n",
    "        }\n",
    "    )\n",
    "\n",
    "urls_df = pd.DataFrame.from_dict(output)\n",
    "file_name = f'Traffic-urls-{web_name}.csv'\n",
    "urls_df.to_csv(file_name, index=False)\n",
    "\n",
    "print('Descarga el Informe:')\n",
    "display(FileLink(file_name))\n"
   ]
  }
 ],
 "metadata": {
  "kernelspec": {
   "display_name": "Python 3 (ipykernel)",
   "language": "python",
   "name": "python3"
  },
  "language_info": {
   "codemirror_mode": {
    "name": "ipython",
    "version": 3
   },
   "file_extension": ".py",
   "mimetype": "text/x-python",
   "name": "python",
   "nbconvert_exporter": "python",
   "pygments_lexer": "ipython3",
   "version": "3.9.4"
  }
 },
 "nbformat": 4,
 "nbformat_minor": 5
}
